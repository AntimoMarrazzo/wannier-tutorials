{
 "cells": [
  {
   "cell_type": "code",
   "execution_count": null,
   "id": "dd835fc6-b6d3-4a2d-b742-a5fa925835df",
   "metadata": {},
   "outputs": [],
   "source": [
    "%matplotlib inline\n",
    "\n",
    "import os\n",
    "import sys\n",
    "from itertools import product\n",
    "import numpy as np\n",
    "np.set_printoptions(precision=4,suppress=True, linewidth=140)\n",
    "import scipy\n",
    "\n",
    "import matplotlib.pyplot as plt\n",
    "\n",
    "from h5 import HDFArchive\n",
    "from triqs.gf import *\n",
    "from triqs.gf.descriptors import Fourier, Omega\n",
    "from triqs.plot.mpl_interface import plt,oplot\n",
    "from triqs.lattice.utils import TB_from_wannier90, k_space_path\n",
    "\n",
    "import solid_dmft.postprocessing.plot_correlated_bands as pcb\n",
    "import solid_dmft.postprocessing.maxent_sigma as sigma_maxent"
   ]
  },
  {
   "cell_type": "markdown",
   "id": "3f959ccd-d82a-4caa-b869-91b3685ecc61",
   "metadata": {
    "tags": []
   },
   "source": [
    "# TRIQS / solid_dmft tutorial \n",
    "\n",
    "La2CuO4 is one of the high Tc superconductors and can be relatively well described by a 2D Hubbard model on a square lattice which connects the Cu ions. Further below, we will discuss why this material is well suited for DMFT and that the mapping to a low-energy description is straightforward. For a theoretical overview over DFT+DMFT you may be interested in this paper [doi.org/10.1103/PhysRevB.91.125142](https://doi.org/10.1103/PhysRevB.91.125142). \n",
    "\n",
    "This tutorial should give you an introduction to DMFT calculations. It will introduce the important observables / results that are obtained, and how to understand them. Furthermore, you will learn the basic workflows of using TRIQS as a library.\n",
    "\n",
    "During the tutorial we marked specific tasks (look out for **TASK**) that we recommend you do to deepen your understanding of DMFT, the Green's function formalism, and the usage of TRIQS. All tasks can be done directly in this jupyter notebook.\n",
    "\n",
    "more information about the DFT+DMFT formalism and the utilized codes can be found here: \n",
    "* DFT+DMFT implementation using Quantum Espresso + Wannier90 + TRIQS: [doi.org/10.1088/1361-648X/ac5d1c](https://doi.org/10.1088/1361-648X/ac5d1c)\n",
    "* TRIQS documentation: [triqs.github.io](https://triqs.github.io/triqs/latest)\n",
    "* solid_dmft documentation: [flatironinstitute.github.io/solid_dmft](https://flatironinstitute.github.io/solid_dmft)\n",
    "* solid_dmft input parameter reference: [flatironinstitute.github.io/solid_dmft/_autosummary/read_config](https://flatironinstitute.github.io/solid_dmft/_autosummary/read_config.html)\n",
    "* more TRIQS tutorials: [github.com/TRIQS/tutorials](https://github.com/TRIQS/tutorials/tree/3.0.x/TRIQSTutorialsPython)"
   ]
  },
  {
   "cell_type": "markdown",
   "id": "8e772f4e-1ef8-44b9-b5e2-c289b01d8cf2",
   "metadata": {},
   "source": [
    "---\n",
    "__IMPORTANT__: please make sure to run first the following command in the shell within the VM: \n",
    "```\n",
    "source triqs_activate.sh \n",
    "```\n",
    "\n",
    "Running jupyter-lab will open a port 8888 that can be accessed via the VM web GUI or via port forwarding. FermiSee (to be used later) will be available on port 8889. To forward the port via your ssh connection, connect via ssh specifying the following extra options:\n",
    "\n",
    "```\n",
    "ssh your@mail.com@ins45124.ictp.it -L 7899:localhost:8888 -L 7898:localhost:8889\n",
    "```\n",
    "\n",
    "After you start either jupyter-lab or FermiSee you can access them by typing the following address in your local browser: 127.0.0.1:7899 (jupyter) or 127.0.0.1:7898 (FermiSee).\n",
    "For accessing jupyter you also need the token that jupyter-lab prints in the terminal after execution.\n",
    "\n",
    "---"
   ]
  },
  {
   "attachments": {
    "805b530f-f633-422f-a268-c2ed48b9513b.png": {
     "image/png": "[encoded data removed]"
    }
   },
   "cell_type": "markdown",
   "id": "2ab1e52e-0fe3-4f99-9fb0-3a03209df8e0",
   "metadata": {},
   "source": [
    "## 0. Performing a DFT Quantum Espresso calculation and create a Wannier Hamiltonian\n",
    "\n",
    "(This step is a recap of running DFT and creating Wannier function. Due to the lack of time we provide all the output here, but feel free to repeat the steps.)\n",
    "\n",
    "The aim is to perform a SCF DFT calculation with Quantum Espresso (QE), identify a correlated subspace (here: Cu $d_{x^2-y^2}$ orbital), and create a Wannier Hamiltonian for this orbital. The results will be converted to a TRIQS readable h5 format, via the [triqs.github.io/dft_tools](https://triqs.github.io/dft_tools/latest/) package. The input for the QE SCF calculation can be found in the folder `QE/scf/lco.scf.in` , and consecutively a NSCF calculation has to be performed to obtain the input for Wannier90 (W90) `QE/mlwf`. We also perform a bandstructure calculation `QE/bands/lco.bnd.in` to compare our Wannier fit with the DFT bands. Last, we construct a Wannier Hamiltonian using W90 (`QE/mlwf`). In this specific case we construct one Wannier function for the Cu $d_{x^2-y^2}$ orbital with disentanglement. The input for W90 looks like (`QE/mlwf/lco.win`):\n",
    "\n",
    "The W90 input contains the following important parameters:\n",
    "\n",
    "```\n",
    "num_wann = 1\n",
    "num_bands = 2\n",
    "mp_grid 7 7 7\n",
    "\n",
    "exclude_bands : 1-31,34-40\n",
    "\n",
    "dis_win_min = 10.5\n",
    "dis_win_max = 16.0\n",
    "dis_froz_min = 12.3\n",
    "dis_froz_max = 16.0\n",
    "```\n",
    "\n",
    "The latter is necessary to properly disentangle the target WF from the other bands. \n",
    "\n",
    "The bands in QE and W90 will be plotted along the following path (green line) in the BZ:\n",
    "\n",
    "* G:  [ 0.00,  0.00,  0.00]\n",
    "* S': [ 0.25, -0.25,  0.25]\n",
    "* X:  [ 0.00,  0.00,  0.50]\n",
    "* Z:  [ 0.25,  0.25, -0.25]\n",
    "\n",
    "![Screenshot_20220503_125745.png](attachment:805b530f-f633-422f-a268-c2ed48b9513b.png)\n",
    "\n",
    "\n",
    "# 1. Creating a low-energy description of La$_2$CuO$_4$\n",
    "\n",
    "In this section we will discuss the process of constructing a low-energy model of the material.\n",
    "\n",
    "### DFT density of states\n",
    "\n",
    "Let us first take a look at the density of states to identify the character of the states close to the Fermi level:"
   ]
  },
  {
   "cell_type": "code",
   "execution_count": null,
   "id": "32e3bc5f-8cdd-4398-805e-aa68fcc3eda1",
   "metadata": {},
   "outputs": [],
   "source": [
    "# read partial DOS from QE\n",
    "loc = './QE/scf/dos/'\n",
    "seedname = 'lco'\n",
    "fermi = 12.7367\n",
    "\n",
    "dos_data = {}\n",
    "elems = {'La': range(1,3), 'Cu': range(3,4), 'O': range(4,8)}\n",
    "char_table = {'La': {1: 's', 2: 'p', 3: 'd', 4: 's', 5: 'p', 6: 'f'},\n",
    "              'Cu': {1: 's', 2: 'p', 3: 'd', 4: 's', 5: 'p'},\n",
    "              'O': {1: 's', 2: 'p'}}\n",
    "\n",
    "with open(loc + f'{seedname}.pdos_tot', 'r') as f:\n",
    "    dos_data['tot'] = np.loadtxt(f)\n",
    "\n",
    "for ct, (el, n_atom) in enumerate(elems.items()):\n",
    "    n_char = char_table[el].keys()\n",
    "    for atom, char in product(n_atom, n_char):\n",
    "        with open(loc + f'{seedname}.pdos_atm#{atom}({el})_wfc#{char}({char_table[el][char]})') as f:\n",
    "            dos_data[f'{el}-{atom}-{char}{char_table[el][char]}'] = np.loadtxt(f)\n",
    "            \n",
    "# read the w90 DOS for comparison\n",
    "with open('./QE/mlwf/lco-dos.dat', 'r') as f:\n",
    "    w90_dos = np.loadtxt(f)"
   ]
  },
  {
   "cell_type": "code",
   "execution_count": null,
   "id": "22ec8879-9937-48d6-b114-7487efad7131",
   "metadata": {},
   "outputs": [],
   "source": [
    "fig, ax = plt.subplots(1, dpi=150, figsize=(8,3))\n",
    "\n",
    "# plot total density of states\n",
    "ax.fill_between(dos_data['tot'][:,0] - fermi, dos_data['tot'][:,1], zorder=2, color='gray', lw=0., alpha=0.3, label='total')\n",
    "\n",
    "# plot partial DOS. The entry number corresponds to the orbital order in QE:\n",
    "# 0 col is the energy, then the summed partial DOS, the columns are dz2, dxz, dyz, dx2-y2, dxy\n",
    "Cu_dx2y2 = np.sum([dos_data[f'Cu-3-3d'][:,5]], axis=0)\n",
    "ax.plot(dos_data['tot'][:,0] - fermi, Cu_dx2y2, label=r'Cu-$d_{x^2-y^2}$', zorder=10)\n",
    "\n",
    "Cu_dz2 = np.sum([dos_data[f'Cu-3-3d'][:,2]], axis=0)\n",
    "ax.plot(dos_data['tot'][:,0] - fermi, Cu_dz2, label=r'Cu-$d_{z^2}$')\n",
    "\n",
    "O = np.sum([dos_data[f'O-{atom}-2p'][:,1] for atom in elems['O']], axis=0)\n",
    "ax.plot(dos_data['tot'][:,0] - fermi, O, label=r'O-$p$')\n",
    "\n",
    "# plot the w90 DOS\n",
    "ax.plot(w90_dos[:,0]-fermi, w90_dos[:,1], label='w90 DOS')\n",
    "\n",
    "ax.set_xlim(-8,2.8)\n",
    "ax.set_ylim(0,4)\n",
    "ax.set_ylabel('DOS')\n",
    "ax.set_xlabel(r'$\\omega$ (eV)')\n",
    "ax.legend()\n",
    "plt.show()"
   ]
  },
  {
   "cell_type": "markdown",
   "id": "f443cbe2-29d9-445a-9a02-d010cc570e55",
   "metadata": {},
   "source": [
    "It can be observed that the states right at the Fermi level are dominantly of Cu $d_{x^2-y^2}$ (blue) character hybridized with O $p$ states (green). The W90 DOS matches exactly the total DOS in the window given by the Cu $d_{x^2-y^2}$ states, capturing the nature of the bonding orbitals as well. This means that this is the best compromise of having a localized Cu $d_{x^2-y^2}$-character-like state, but still describing properly the electronic states corresponding to the band close to the Fermi level.\n",
    "\n",
    "__TASK__: What is the reason for the contributions to the DOS of the Cu $d_{x^2-y^2}$ (blue) states at low energies between -8 and -5 eV?"
   ]
  },
  {
   "cell_type": "markdown",
   "id": "9c7ccc1d-85d2-41bd-bf2f-875eefca7bdc",
   "metadata": {},
   "source": [
    "### Plot QE bands together with W90 bands to check quality of Wannier fit"
   ]
  },
  {
   "cell_type": "markdown",
   "id": "32e3e4b0-759b-4145-9ba2-1b017bdfd817",
   "metadata": {},
   "source": [
    "To check more carefully whether the tight-binding Hamiltonian describes the DFT bands close to the Fermi level correctly, we now plot the QE and the W90 bands on top of each other. To plot the W90 bands we will make use of the solid_dmft postprocessing module [plot_correlated_bands](https://flatironinstitute.github.io/solid_dmft/_autosummary/postprocessing.html) (`pcb`). This utility reads the real space Wannier Hamiltonian, and then leverages Wannier interpolation to construct $H(k)$ on any given $k$ point mesh."
   ]
  },
  {
   "cell_type": "code",
   "execution_count": null,
   "id": "c2b75b37-c21a-4fd4-9b4b-8c5a0ebea5ef",
   "metadata": {},
   "outputs": [],
   "source": [
    "# w90 information\n",
    "w90_dict = {'w90_path': './QE/mlwf/',\n",
    "            'w90_seed': 'lco',\n",
    "            'add_spin': False, 'add_lambda': None,\n",
    "            'n_orb': 1,\n",
    "            'mu': fermi,\n",
    "            'orbital_order_w90': [0]}\n",
    "\n",
    "# plotting options\n",
    "plot_dict = {'colorscheme_bands': 'coolwarm', 'proj_on_orb': None, 'vmin': 0.0}\n",
    "\n",
    "# tight-binding-like bands we want to plot from the given W90 Hamiltonian\n",
    "tb_bands = {'bands_path': [('G', 'S\\''), ('S\\'', 'X'), ('X', 'G'), ('G', 'Z')], 'n_k': 50,\n",
    "            'G': [ 0.0,  0.0,  0.0], 'S\\'': [0.25, -0.25, 0.25], 'X': [0.0,  0.0,  0.5 ], 'Z': [0.25,  0.25, -0.25] }\n",
    "\n",
    "# get_dmft_bands extracts H(k) from the above specified path\n",
    "tb_bands_data, alatt_k_w_path, freq_dict, dft_mu = pcb.get_dmft_bands(orbital_order_to = [0], **w90_dict, **tb_bands)\n",
    "\n",
    "# also load the bands.dat.gnu file for a comparison\n",
    "band_data = np.loadtxt('./QE/bands/lco_bands.dat.gnu') "
   ]
  },
  {
   "cell_type": "code",
   "execution_count": null,
   "id": "203e6b10-cfa5-414b-9262-f02e7653f27d",
   "metadata": {},
   "outputs": [],
   "source": [
    "fig, ax = plt.subplots(1,dpi=150,figsize=(5,6))\n",
    "\n",
    "# since every code uses a different scale for a k-path we have to scale the QE bands\n",
    "factor = tb_bands_data['k_mesh'][-1]/band_data[-1,0]\n",
    "\n",
    "# plot QE bands\n",
    "ax.scatter(band_data[:,0] * factor, band_data[:,1] - fermi, color='C0', s=4, label='QE')\n",
    "\n",
    "# plot W90 bands using the plot_bands function of pcb\n",
    "pcb.plot_bands(fig, ax, alatt_k_w_path, tb_bands_data, freq_dict, n_orb=w90_dict['n_orb'], dft_mu=0.0, tb=True, alatt=False, **plot_dict)\n",
    "\n",
    "ax.set_ylim(-8,2.5)\n",
    "ax.legend()\n",
    "plt.show()"
   ]
  },
  {
   "cell_type": "markdown",
   "id": "578b9623-5c80-4396-a126-3c3d434dbad9",
   "metadata": {},
   "source": [
    "### Convert Wannier90 to TRIQS"
   ]
  },
  {
   "cell_type": "markdown",
   "id": "28b31c97-97f7-4a86-94f0-c4b2febf948b",
   "metadata": {},
   "source": [
    "Now, we will convert the W90 output to a TRIQS readable format using the Wannier90Converter of [triqs/dft_tools](https://triqs.github.io/dft_tools/latest/)."
   ]
  },
  {
   "cell_type": "code",
   "execution_count": null,
   "id": "c62fd2fe-dd30-49ce-bd78-9a7d86a99f4b",
   "metadata": {},
   "outputs": [],
   "source": [
    "from triqs_dft_tools.converters.wannier90 import Wannier90Converter"
   ]
  },
  {
   "cell_type": "markdown",
   "id": "53f4f897-73ca-4efc-9bea-a7321a16c231",
   "metadata": {},
   "source": [
    "The wannier90 converter input `lco.inp` contains the following information:\n",
    "```\n",
    "0   7 7 7              # specification of the k-mesh\n",
    "1.0                    # electron density\n",
    "1                      # number of atoms\n",
    "0  0  2  1  0  0       # atom, sort, l, dim, SO, irep for each atom\n",
    "```\n",
    "\n",
    "Now we run the converter in the according sub-directory producing an h5 archive `lco_wannier.h5`."
   ]
  },
  {
   "cell_type": "code",
   "execution_count": null,
   "id": "96acd28c-c476-448f-98bd-6df3fccd790b",
   "metadata": {},
   "outputs": [],
   "source": [
    "%cd \"QE/mlwf\"\n",
    "Converter = Wannier90Converter(seedname='lco', hdf_filename='lco_wannier.h5')\n",
    "Converter.convert_dft_input()\n",
    "%cd \"../../\"\n",
    "# and copy the h5 archive in the cwd\n",
    "!cp QE/mlwf/lco_wannier.h5 ./"
   ]
  },
  {
   "cell_type": "markdown",
   "id": "a8d28595-2475-4b0e-88b1-b6d32cf4c0a3",
   "metadata": {},
   "source": [
    "### The HDFArchive (h5)\n",
    "\n",
    "h5 archives are a standardized storage format similar to a zip archive, but for directly storing arrays, strings etc. and is interfaced to many different programming languanges, which immensely simplifies data transfer across different codes. TRIQS provides its own h5 interface layer build on top of h5py making reading / writing very easy. After opening an h5 archive, you can access the object as if it were a dictionary."
   ]
  },
  {
   "cell_type": "code",
   "execution_count": null,
   "id": "4cc08af5-f1ec-4c23-b256-c47bc25c1648",
   "metadata": {},
   "outputs": [],
   "source": [
    "with HDFArchive('lco_wannier.h5', 'r') as h5:\n",
    "    print(h5['dft_input'])"
   ]
  },
  {
   "cell_type": "markdown",
   "id": "b3b5b682-3cec-4870-a314-1397d1d26427",
   "metadata": {},
   "source": [
    "As we can see, the Wannier90Cconverter calculated $H(k)$ on a predefined k-mesh and stored it with additional information in the archive. The information stored is standardized for all DFT codes in TRIQS (see [triqs.github.io/dft_tools/3.1.x/h5structure](https://triqs.github.io/dft_tools/3.1.x/h5structure.html)) and interfaces to other codes exist. This is very practical, since we can then run solid_dmft starting from any compatible DFT code."
   ]
  },
  {
   "cell_type": "markdown",
   "id": "1672719a-329c-43e7-8030-7a30d4788c6f",
   "metadata": {},
   "source": [
    "## 2. Run a one-shot DMFT calculation using solid_dmft"
   ]
  },
  {
   "cell_type": "markdown",
   "id": "6f389774-f621-4c0d-8ce2-dce67658f9bd",
   "metadata": {},
   "source": [
    "Now that we have finished all preparations, we are able to run the one-shot DMFT calculation. We will use the [triqs/cthyb impurity solver](https://triqs.github.io/cthyb/latest/) to solve the impurity problem within the DMFT loop. This is a Monte Carlo solver, sampling the impurity Green's function $G^{imp}(\\tau)$ in imaginary time $\\tau=i t$ at finite temperature $T$ by expanding the impurity Hamiltonian in the hybridization function, which couples the bath with the impurity. We will perform our calculations at inverse temperature `beta = 10`, which corresponds to $T \\approx 1160$ K, where $\\beta = \\frac{1}{k_B T}$. Higher temperatures are numerically easier. The solver is fully MPI parallelized, and written in C++.\n",
    "\n",
    "The accuracy of the solver is ultimatively determined by the total number of Monte Carlo (MC) moves it performs and how many successive measurements of $G^{imp}(\\tau)$ are made. This is controlled in the `[solver]` section of the solid_dmft input file with the following parameters:\n",
    "\n",
    "```\n",
    "n_warmup_cycles = 5000\n",
    "n_cycles_tot = 2e+6\n",
    "length_cycle = 40\n",
    "```\n",
    "The first parameter `n_warmup_cycles` is important to thermalize the system before any measurement is performed. This task is performed on every MC \"walker\", i.e. on every MPI rank, and the number strongly depends on the problem at hand. For simple problems at higher temperatures a value between 5000-10000 is usually enough. The next parameter, `n_cycles_tot` determines the number of measurements performed. The number is absolute for all MC walkers, and the workload of performing the measurements is divided among the MPI ranks. The last parameter `length_cycle` is equally crucial for accuracy. This is the number of MC moves performed between two measurements. So the number of total moves will be `n_cycles_tot * length_cycle`. The length of a cycle is important to decorrelate two measurements. If the length is not large enough, measurements will depend on each other and general accuracy will go down.\n",
    "\n",
    "Since we have a limited amount of resources we will first perform 6 DMFT iterations with $2 \\times 10^6$ measurements to pre-converge our results. The cycle length is optimized for this temperature and problem. No need to modify.\n",
    "\n",
    "solid_dmft is controlled via a single configuration file. This file is usually called `dmft_config.ini` but can be named differently when the name is passed as argument to solid_dmft. The file is divided into sections: `general`, `solver`, and `advanced`. Let's have a look at the config file we provide:"
   ]
  },
  {
   "cell_type": "code",
   "execution_count": null,
   "id": "5b470942-1675-4917-a2ab-587d18c48e6d",
   "metadata": {},
   "outputs": [],
   "source": [
    "!cat dmft_config.ini"
   ]
  },
  {
   "cell_type": "markdown",
   "id": "2a22faaa-ca3f-4a7d-b26e-dfbe5068b963",
   "metadata": {},
   "source": [
    "Most important parameters not yet introduced are `U` (similar to DFT+U), the choice of solver `solver_type` (cthyb in our case as introduced above), the number of DMFT iterations `n_iter_dmft`, the jobname where the calculation is performed in `jobname`, and the choice of double counting `dc_type` (similar to DFT+U). For now you can leave all parameters as is.\n",
    "\n",
    "The reference for these parameters can be found here [flatironinstitute.github.io/solid_dmft/_autosummary/read_config](https://flatironinstitute.github.io/solid_dmft/_autosummary/read_config.html) . Let us know if you have any questions.\n",
    "\n",
    "Now go to the terminal, navigate to the directory of the tutorial and start the run (the calculation will take 3-4 min): \n",
    "```\n",
    "mpirun solid_dmft > lco.dmft.out 2>&1 &\n",
    "```\n",
    "\n",
    "and inspect the output.\n",
    "```\n",
    "less lco.dmft.out\n",
    "```\n",
    "\n",
    "The calculation will create a directory `b10-U3.6`, where everything will be stored into the h5 archive and text files. Take a look around and see if you can identify the important steps of a DMFT calculation. Take special attention to the impurity density matrix printed before and after the solver is running. This is a good indicator for how well the calculation is going. In and output density matrix should be the same at convergence.\n",
    "\n",
    "During the calculation you can also monitor the `observables_imp0.dat` file, which is stored in the `jobname` directory. This file summarizes important observables in each iteration. Make sure that the chemical potential `mu` converges to a fixed value while the calculation is running. "
   ]
  },
  {
   "cell_type": "code",
   "execution_count": null,
   "id": "d5d7954d-cd3b-4f47-8597-40f3823b0e83",
   "metadata": {},
   "outputs": [],
   "source": [
    "!cat b10-U3.6/observables_imp0.dat"
   ]
  },
  {
   "cell_type": "markdown",
   "id": "3e5b78aa-39d2-4938-a97e-90f526f4b6eb",
   "metadata": {},
   "source": [
    "## 3. Check convergence"
   ]
  },
  {
   "cell_type": "markdown",
   "id": "683afa7d-7e04-4ad7-a517-e6ae8bd6728e",
   "metadata": {},
   "source": [
    "After the calculation is finished we can take a look at the results (this step also works while the calculation is still running) and plot the results. First, we load the results from the h5 archive in the `jobname` directory:"
   ]
  },
  {
   "cell_type": "code",
   "execution_count": null,
   "id": "893a37d2-50b9-42a3-aa10-6b8138d2b714",
   "metadata": {},
   "outputs": [],
   "source": [
    "with HDFArchive('b10-U3.6/lco_wannier.h5','r') as h5:\n",
    "    print(h5)"
   ]
  },
  {
   "cell_type": "markdown",
   "id": "46004291-7c0e-4d59-b95d-ee10aa2f97fb",
   "metadata": {},
   "source": [
    "The h5 archive now has additional `groups` for the in / output of the calculation. You can print each sub-group to view how the data is stored. The organized folder-like structure allows us to later read the calculation again and continue where we left off. Let us now load the results of our calculation at the current stage:"
   ]
  },
  {
   "cell_type": "code",
   "execution_count": null,
   "id": "3ab1733f-63e9-4844-aeec-7db01d7ac0fc",
   "metadata": {},
   "outputs": [],
   "source": [
    "with HDFArchive('b10-U3.6/lco_wannier.h5','r') as h5:\n",
    "    # the next two lines load all directly measured observables and the convergence metrics per iteration\n",
    "    obs = h5['DMFT_results/observables']\n",
    "    conv_obs = h5['DMFT_results/convergence_obs']\n",
    "    # The next lines load the last iteration impurity Green function and self-energies\n",
    "    Sigma_imp_iw = h5['DMFT_results/last_iter/Sigma_freq_0']\n",
    "    G_imp_iw = h5['DMFT_results/last_iter/Gimp_freq_0']\n",
    "    G_imp_tau_mc = h5['DMFT_results/last_iter/G_time_orig_0']\n",
    "    G_imp_tau = h5['DMFT_results/last_iter/Gimp_time_0']\n",
    "    G_imp_leg = h5['DMFT_results/last_iter/Gimp_l_0']\n",
    "    # last, the chemical potential and double counting potential\n",
    "    mu = h5['DMFT_results']['last_iter']['chemical_potential_post']\n",
    "    dc = h5['DMFT_results']['last_iter']['DC_pot']"
   ]
  },
  {
   "cell_type": "markdown",
   "id": "0266f20b-63f8-425d-a0da-b402bc558510",
   "metadata": {},
   "source": [
    "We now plot the data and take a look at the most important observables to gauge if the calculation is converged: \n",
    "* the chemical potential\n",
    "* the impurity occupation\n",
    "* the spectral weight at the Fermi level, which is directly accessible on the imaginary axis, without analytical continuation (see also [ref](https://journals.aps.org/prb/abstract/10.1103/PhysRevB.83.235113)):\n",
    "\n",
    "$$\\bar{A}(\\omega=0)=-\\frac{\\beta}{\\pi} G(\\tau=\\frac{\\beta}{2})$$\n",
    "\n",
    "* the quasiparticle weight Z, i.e. renormalization of the DFT bands:\n",
    "\n",
    "$$Z^{-1}=\\left[ 1 - \\frac{\\partial \\text{Im} \\Sigma(i \\omega_n)}{\\partial \\omega} \\big|_{\\omega \\rightarrow 0^+} \\right]$$\n",
    "\n",
    "* the convergence of the Weiss field $\\mathcal{G}^0(i \\omega_n)$\n",
    "* the convergence of the DMFT self-consistency condidation $|| G^{loc} - G^{imp} ||$"
   ]
  },
  {
   "cell_type": "code",
   "execution_count": null,
   "id": "fa96e2b9-88c4-4e5f-9a9d-b9ea42c88a50",
   "metadata": {},
   "outputs": [],
   "source": [
    "fig, ax = plt.subplots(nrows=6, dpi=120, figsize=(7,10), sharex=True)\n",
    "\n",
    "# chemical potential\n",
    "ax[0].plot(obs['iteration'], obs['mu'], '-o', color='C0')\n",
    "ax[0].set_ylabel(r'$\\mu$ (eV)')\n",
    "\n",
    "# imp occupation\n",
    "imp_occ = np.array(obs['imp_occ'][0]['up'])+np.array(obs['imp_occ'][0]['down'])\n",
    "ax[1].plot(obs['iteration'], imp_occ, '-o', color='C1')\n",
    "ax[1].set_ylim(0.98,1.02)\n",
    "ax[1].set_ylabel('Imp. occupation')\n",
    "\n",
    "# A(w=0)\n",
    "Aw0 = -1*(np.array(obs['imp_gb2'][0]['up'])+np.array(obs['imp_gb2'][0]['down']))\n",
    "ax[2].plot(obs['iteration'], Aw0 , '-o', color='C2')\n",
    "ax[2].set_ylim(0,)\n",
    "ax[2].set_ylabel(r'$\\bar{A}(\\omega=0$)')\n",
    "\n",
    "# Z\n",
    "Z = 0.5*(np.array(obs['orb_Z'][0]['up'])+np.array(obs['orb_Z'][0]['down']))\n",
    "ax[3].plot(obs['iteration'], Z, '-o', color='C3')\n",
    "ax[3].set_ylim(0,1.0)\n",
    "ax[3].set_ylabel(r'QP weight Z')\n",
    "\n",
    "# convergence of Weiss field\n",
    "ax[4].semilogy(obs['iteration'][1:], conv_obs['d_G0'][0], '-o', color='C4')\n",
    "ax[4].set_ylabel(r'dG$_0$')\n",
    "\n",
    "# convergence of DMFT self-consistency condition Gimp-Gloc\n",
    "ax[5].semilogy(obs['iteration'][1:], conv_obs['d_Gimp'][0], '-o', color='C5')\n",
    "ax[5].set_ylabel(r'|G$_{imp}$-G$_{loc}$|')\n",
    "\n",
    "ax[-1].set_xticks(range(0,len(obs['iteration'])))\n",
    "ax[-1].set_xlabel('Iterations')\n",
    "\n",
    "plt.show()"
   ]
  },
  {
   "cell_type": "markdown",
   "id": "237d2a2c-7705-4d0f-a59a-488d17b1bb56",
   "metadata": {},
   "source": [
    "All metrics seem to indicate good convergence in the first few iterations. However, for the small number of measurements performed some metrics like the impurity occupations show room for improvement. The last two plots show overall accuracy of the calculation. Note that the Weiss field $\\mathcal{G}^0(i \\omega_n)$ generally converges first, and only after a few extra iterations the convergence of $|| G^{loc} - G^{imp} ||$ will follow."
   ]
  },
  {
   "cell_type": "markdown",
   "id": "136e027d-961c-4b53-b2a9-7759376d32bf",
   "metadata": {},
   "source": [
    "### The TRIQS BlockGf object\n",
    "\n",
    "`Sigma_imp_iw` loaded from the h5 archive is a TRIQS Block Green's function object ([see doc here](https://triqs.github.io/triqs/unstable/documentation/manual/triqs/gfs/py/full.html)). This is a structured container holding not only the raw data of the Green' function like a numpy array, but also information about the mesh, and its block (i.e. spin/orbital) structure. So when accessing a Block Green's function object you only get back information:"
   ]
  },
  {
   "cell_type": "code",
   "execution_count": null,
   "id": "f9968b91-b45b-42e1-87a7-d55d628a436f",
   "metadata": {},
   "outputs": [],
   "source": [
    "Sigma_imp_iw"
   ]
  },
  {
   "cell_type": "markdown",
   "id": "82570137-7ce7-4ddb-ae7f-243739f53db0",
   "metadata": {},
   "source": [
    "we see that `Sigma_imp_iw` consists of two blocks. Each block has a name and is printed as separate line. The block names itself can be accessed via the `indices` property:"
   ]
  },
  {
   "cell_type": "code",
   "execution_count": null,
   "id": "5252efe6-3d1a-4a13-84af-eb81b9234cca",
   "metadata": {},
   "outputs": [],
   "source": [
    "list(Sigma_imp_iw.indices)"
   ]
  },
  {
   "cell_type": "markdown",
   "id": "2d407e2c-e585-4d58-b9c7-7992b1d8d17f",
   "metadata": {},
   "source": [
    "We have one block for each spin index. Since we are running a paramagnetic calculation both blocks hold the same data. `solid_dmft` averaged both blocks for us to ensure a paramagnetic solution. To get an overview over all accessible attributes and functions of the Block Green's function, take a look [here](https://triqs.github.io/triqs/unstable/documentation/python_api/triqs.gf.block_gf.BlockGf.html).\n",
    "\n",
    "If we access one block we get back a view on the underlying Green function in memory:"
   ]
  },
  {
   "cell_type": "code",
   "execution_count": null,
   "id": "31edfa5c-5cf6-482c-ade7-3718d35b46b3",
   "metadata": {},
   "outputs": [],
   "source": [
    "Sigma_imp_iw['up_0']"
   ]
  },
  {
   "cell_type": "markdown",
   "id": "9cdcf20c-0129-4746-b221-654d6d011220",
   "metadata": {},
   "source": [
    "Every Green's function in TRIQS is defined on a mesh which can be accessed via `Sigma_imp_iw.mesh`. Also note that triqs implements many useful linear algebra operations that run directly in C++, like multiplication, addition, inversion etc. This leverages fast pre-compiled C++ functionality. We will later learn more how to use these operations."
   ]
  },
  {
   "cell_type": "markdown",
   "id": "6d4b43f2-9a90-4e9a-9722-2d2c3ecd701b",
   "metadata": {},
   "source": [
    "### Plot of the self-energy Σ\n",
    "\n",
    "Let us now take a look at the impurity self-energy. It is the central output of DMFT calculation, which determines the corrections to the non-interacting DFT input Hamiltonian. Here we calculated Σ on the imaginary axis. Hence, in general features are not easily transferable to the real frequency axis. However, at $i \\omega_n \\rightarrow 0$ both the real and imaginary axis meet and we can directly interpret physical properties. Note that Σ itself like any other Green's function is complex-valued. Around $i \\omega_n \\approx 0$ we can read of quasiparticle properties. As long as the imaginary part of Σ goes to 0 for small Matsubara frequencies, the material has quasiparticle-like features. If the imaginary part of Σ diverges at 0, the material is Mott insulating. The slope around 0 determines the band renormalization, indicating the strength of correlations of the material. Let us plot the imaginary part of Σ via the TRIQS `oplot` plotting layer on top of matplotlib. This uses directly the `mesh` information to directly plot the Green's function object:"
   ]
  },
  {
   "cell_type": "code",
   "execution_count": null,
   "id": "69406e44-fca8-4af9-a107-f1f7777785aa",
   "metadata": {},
   "outputs": [],
   "source": [
    "# plot self energy\n",
    "fig, ax = plt.subplots(1, dpi=150)\n",
    "\n",
    "ax.oplot(Sigma_imp_iw['up_0'].imag, '-o', c='C0', label='d$_{x^2-y^2}$')\n",
    "\n",
    "ax.set_ylabel(r\"Im $\\Sigma (i \\omega)$\")\n",
    "ax.set_xlim(0,20)\n",
    "plt.show()"
   ]
  },
  {
   "cell_type": "markdown",
   "id": "3ac5e6db-d41a-4d8e-aeda-63a11022c92f",
   "metadata": {},
   "source": [
    "We see that the self-energy is quite close to divergence around 0, but the first Matsubara goes back towards 0 indicating a metallic solution, but with strong renormalization. You should always make sure that the high frequency tail of the self-energy convergens smoothly to 0 on the imaginary axis, and to a constant value on the real axis.\n",
    "\n",
    "__TASK__ check the convergence of the real part of Σ\n",
    "\n",
    "__TASK__ now we want to converge the calculation better, by performing 4 additional iterations with better sampling, that are appended to the previous iterations. To do so, open the `dmft_config.ini` file in the main directory (not in the job folder) and change first the number of dmft iterations to 4, and then increase the number of MC measurements to $10 \\times 10^6$. Then just run solid_dmft again with the same command, but storing the output log file to `lco.dmft-hd.out`. Check that solid_dmft in the beginning notices that there is already a calculation folder with that name and continues the calculation starting from your current self-energy instead of starting a new one. After this is finished you can just rerun the above cells to load the new results.\n",
    "\n",
    "__TASK__ while you wait for this to finish, plot the impurity Green function in $\\tau$, this time the real part, which we loaded as `G_imp_tau`. You will see that it is a very smooth function. But how can this be, being sampled via MC? Indeed, `G_imp_tau` is already post-processed before computing the self-energy. The original MC data (loaded as `G_imp_tau_mc`) would be much to noisy for this. Plot both Green's functions and inspect the difference."
   ]
  },
  {
   "cell_type": "markdown",
   "id": "4800cad8-b7de-4a56-8b17-e9ca856dc269",
   "metadata": {},
   "source": [
    "## 4. Analytic continuation of the self-energy\n",
    "\n",
    "Since, we are interested in the real frequency properties of the material we have to perform an analytic continuation. We do this using the TRIQS application [triqs.github.io/maxent](https://triqs.github.io/maxent/latest/). This is a stochastic method, which also performs quite well on noisy QMC data. We wrapped the functionality in [solid_dmft/maxent](https://flatironinstitute.github.io/solid_dmft/_autosummary/postprocessing.maxent_sigma.html) to automatically load a result from a DMFT calculation with all necessary input.\n",
    "\n",
    "Disclaimer: The analytic continuation of a self-energy is delicate and should be done with great care. Always check if the results are physically sound and avoid overinterpreting specific features of a MaxEnt-continued Green's function.\n",
    "\n",
    "We use now the `sigma_maxent` module of `solid_dmft`:"
   ]
  },
  {
   "cell_type": "code",
   "execution_count": null,
   "id": "a824c2f2-bad6-4528-b9dc-5a723b891772",
   "metadata": {},
   "outputs": [],
   "source": [
    "# use pcb maxent script to continue sigma\n",
    "Sigma_real_freq = sigma_maxent.main(external_path='b10-U3.6/lco_wannier.h5', \n",
    "                                     omega_min = -10, omega_max= 10, \n",
    "                                     maxent_error=0.03, iteration= None,\n",
    "                                     n_points_maxent=101,\n",
    "                                     continuator_type='inversion_sigmainf')[0][0]"
   ]
  },
  {
   "cell_type": "markdown",
   "id": "23c19940-01dc-4817-b286-85ce51c2b20d",
   "metadata": {},
   "source": [
    "This takes just a few seconds in the current setup. You can play around using another, better converged iteration from the DMFT calculation from the h5 archive, or with the `n_points_maxent` (number of freq. points for the continuation). The function also stores the result consistently in the same h5 archive.\n",
    "\n",
    "Let us plot the result:"
   ]
  },
  {
   "cell_type": "code",
   "execution_count": null,
   "id": "00299dbc-9246-44c5-afca-0b841cc91f6e",
   "metadata": {},
   "outputs": [],
   "source": [
    "fig, ax = plt.subplots(1,2, sharex=True, dpi=150, figsize=(10,4))\n",
    "\n",
    "# plot real part of the self-energy and subtract constant offset at 0.0 (Hartree shift)\n",
    "# Sigma_real_freq['up_0'](0.0) evaluates the self-energy at w=0.0\n",
    "ax[0].oplot((Sigma_real_freq['up_0'] - Sigma_real_freq['up_0'](0.0)[0,0]).real, '-', c='C0', label='Re')\n",
    "# plot imaginary part of the self-energy\n",
    "ax[1].oplot(-1*Sigma_real_freq['up_0'].imag, '-', c='C0', label='Im')\n",
    "\n",
    "ax[0].set_ylabel(r\"Re $\\Sigma (\\omega)$ (eV)\")\n",
    "ax[1].set_ylabel(r\"-Im $\\Sigma (\\omega)$ (eV)\")\n",
    "ax[-1].set_xlim(-2.5,2.5)\n",
    "plt.show()"
   ]
  },
  {
   "cell_type": "markdown",
   "id": "227ebbbd-68cc-467a-b4c8-b4e935b6b3b7",
   "metadata": {},
   "source": [
    "__TASK__ how can the quasiparticle properties be read of the real frequency Σ? "
   ]
  },
  {
   "cell_type": "markdown",
   "id": "c4ba2381-cafe-461e-81a2-23594105e64c",
   "metadata": {},
   "source": [
    "## 5. Plot Spectral Function"
   ]
  },
  {
   "cell_type": "markdown",
   "id": "a34f90f6-423b-4ecf-94d8-91710942c942",
   "metadata": {},
   "source": [
    "The spectral function, which can be compared to photoemission experiments, is obtained by constructing first the lattice Green's functions: \n",
    "\n",
    "$$\\hat G(k,\\omega) = \\left[ \\omega + \\mu -\\hat{\\epsilon}(k)-\\left( \\hat\\Sigma(\\omega)^{imp}-\\hat\\Sigma^{dc} \\right) \\right]^{-1} $$\n",
    "\n",
    "using the DMFT analytically continued self-energy from above, the Wannier Hamiltonian $\\epsilon(k)$ and the obtained chemical potential. The spectral function is then calculated as: \n",
    "\n",
    "$$ A(k,\\omega) = - \\frac{1}{\\pi} \\text{Im} \\ G(k, \\omega) $$\n",
    "\n",
    "which is done by the function `get_dmft_bands` from solid_dmft postprocessing routines of `plot_correlated_bands.py`. By passing the option `with_Sigma='calc'` the self-energy from MaxEnt is loaded directly from the h5 file."
   ]
  },
  {
   "cell_type": "code",
   "execution_count": null,
   "id": "cb0ad5f8-9d6b-41a5-ad68-a94c42af82bc",
   "metadata": {},
   "outputs": [],
   "source": [
    "# we have to specify the mesh of the spectral function and pass a new keywargs object sigma_dict\n",
    "w_mesh = {'window': [-4.0, 4.0], 'n_w': int(501)}\n",
    "sigma_dict = {'dmft_path': 'b10-U3.6/lco_wannier.h5', 'it': 'last_iter', 'orbital_order_dmft': [0], 'spin': 'up', 'eta': 0.0, 'block' : 0 ,'w_mesh': w_mesh, 'linearize': False}\n",
    "\n",
    "tb_bands_data, alatt_k_w_path, freq_dict, dft_mu = pcb.get_dmft_bands(orbital_order_to = [0], with_sigma='calc', **w90_dict, **tb_bands, **sigma_dict)\n",
    "\n",
    "fig, ax = plt.subplots(1,dpi=150,figsize=(7,4))\n",
    "pcb.plot_bands(fig, ax, alatt_k_w_path, tb_bands_data, freq_dict, n_orb=w90_dict['n_orb'], dft_mu=0.0, tb=True, alatt=True, **plot_dict)"
   ]
  },
  {
   "cell_type": "markdown",
   "id": "7278531f-58fd-4aa4-abe1-936a6ec03b35",
   "metadata": {},
   "source": [
    "The original W90 band is plotted in red and the spectral function is shown as intensity plot. The quasiparticle band is the strongly renormalized white \"band\"-like structure around $\\omega=0$. The strong intensities at larger energies are Hubbard sattelite features forming the Hubbard bands. To visualize this effect better we now want to calculate the k-summed spectral function $A(\\omega)$, which we can compare with the DOS from W90.\n",
    "\n",
    "We first construct the full lattice Green's function:"
   ]
  },
  {
   "cell_type": "code",
   "execution_count": null,
   "id": "21ba9b1d-0828-4d74-8e0f-d5ab43a3e6b3",
   "metadata": {},
   "outputs": [],
   "source": [
    "# triqs function to load a w90 hamiltonian as tight binding object\n",
    "TB = TB_from_wannier90(seed='lco' ,path='./QE/mlwf/')\n",
    "\n",
    "# calculate epsilon(k) on a given mesh\n",
    "# since La2CuO4 is mostly 2D, we use a 2D mesh to speed things up\n",
    "k_dim = 7\n",
    "k_mesh = TB.get_kmesh(n_k = (k_dim, k_dim, 1))\n",
    "n_k = np.prod(k_mesh.dims)\n",
    "e_k = TB.fourier(k_mesh)\n",
    "\n",
    "# create a Mesh product of k and omega mesh:\n",
    "mesh_k_w = MeshProduct(k_mesh, Sigma_real_freq.mesh)\n",
    "\n",
    "# create a triqs Gf on a combined k and omega mesh:\n",
    "G_k_w = Gf(mesh = mesh_k_w, target_shape = [1,1])\n",
    "\n",
    "# create here first a Gf called G_loc_w for the k summation\n",
    "G_loc_w = Gf(mesh = Sigma_real_freq.mesh, target_shape = [1,1])\n",
    "\n",
    "# now we loop over k-points\n",
    "for k in G_k_w.mesh.components[0]:\n",
    "    # use equation above to set at each k point the lattice Gf\n",
    "    G_k_w[k,:] << inverse(Omega + mu - e_k[k] - (Sigma_real_freq['up_0']-dc[0]['up']) )\n",
    "    \n",
    "    # do the summation for G_loc_w "
   ]
  },
  {
   "cell_type": "markdown",
   "id": "c45006ff-fc86-4504-8bee-6af9731d8bfa",
   "metadata": {},
   "source": [
    "__TASK__ adapt the cell above to obtain the local real frequency Green's function `G_loc_w` defined in line 16. Think about how it should be normalized and also check [triqs.github.io/triqs/unstable/documentation/manual/triqs/gfs/py/block.html#operations](https://triqs.github.io/triqs/unstable/documentation/manual/triqs/gfs/py/block.html#operations) for how to perform basic operations on Gf objects.\n",
    "\n",
    "If everything went fine we can plot the result (hint: after it looks roughly correct increase `k_dim`):"
   ]
  },
  {
   "cell_type": "code",
   "execution_count": null,
   "id": "c0e04dac-110a-410c-b190-85687427b1d9",
   "metadata": {},
   "outputs": [],
   "source": [
    "fig, ax = plt.subplots(1,dpi=150,figsize=(6,3))\n",
    "\n",
    "ax.oplot(-1/np.pi*G_loc_w.imag, label=r'A($\\omega$) U=3.62 eV')\n",
    "\n",
    "ax.plot(w90_dos[:,0]-fermi,w90_dos[:,1], label='w90 DOS')\n",
    "\n",
    "\n",
    "ax.set_ylabel(r'A($\\omega$)')\n",
    "ax.set_xlabel(r'$\\omega$')\n",
    "ax.set_xlim(-5,5)\n",
    "ax.set_ylim(0,1.1)\n",
    "ax.legend()\n",
    "plt.show()"
   ]
  },
  {
   "cell_type": "markdown",
   "id": "059d865c-b310-43c4-bbd7-958493428e5b",
   "metadata": {},
   "source": [
    "__TASK__: change the value of $U$ in DMFT input file, and the `jobname` to check how the spectral function changes. Remember cthyb is an expansion in hybridization. The smaller the U, the harder is the problem to solve. \n",
    "Tip: to speed up convergence, you can load a previous self-energy by using the config flag `load_sigma=True` and pointing to a previous calculation with `path_to_sigma=b10-U3.6/lco_wannier.h5`. "
   ]
  },
  {
   "cell_type": "markdown",
   "id": "dc9b4192-3c86-4b07-8edd-f951b44c4bdd",
   "metadata": {},
   "source": [
    "## 6. FermiSee\n",
    "\n",
    "To visualize and explore in an easier fashion the spectral properties of materials we also developed the WebApp [FermiSee](https://github.com/TRIQS/FermiSee):\n",
    "\n",
    "![image.gif](https://github.com/TRIQS/FermiSee/raw/unstable/doc/tutorial_gen.gif)\n",
    "\n",
    "We will now prepare our calculated self-energy on the real axis to be read by the tool:"
   ]
  },
  {
   "cell_type": "code",
   "execution_count": null,
   "id": "5152933d-c98e-41e0-bc56-086e4e0b585f",
   "metadata": {},
   "outputs": [],
   "source": [
    "# prepare self-energy for FermiSee\n",
    "w_mesh = [w.value for w in Sigma_real_freq.mesh]\n",
    "# store to FermiSee readable format\n",
    "with HDFArchive('sigma_fermisee.h5', 'w') as h5:\n",
    "    h5.create_group('self_energy')\n",
    "    h5['self_energy']['Sigma'] = Sigma_real_freq\n",
    "    h5['self_energy']['w_mesh'] = w_mesh\n",
    "    h5['self_energy']['n_w'] = len(w_mesh)\n",
    "    h5['self_energy']['n_orb'] = 1\n",
    "    h5['self_energy']['dc'] = dc[0]['up'][0,0]\n",
    "    h5['self_energy']['dmft_mu'] = mu\n",
    "    h5['self_energy']['orbital_order'] = [0]"
   ]
  },
  {
   "cell_type": "markdown",
   "id": "2d956a7e-c5d3-406b-a1f4-cabfdf65fc04",
   "metadata": {},
   "source": [
    "now go to the VM terminal. Make sure you `source triqs_activate.sh` then just type `FermiSee` and FermiSee starts. This is starting a webserver that you can access under [127.0.0.1:8889](127.0.0.1:8889) on the GUI of the VM or via port forwarding in your local browser under [127.0.0.1:7898](127.0.0.1:7898). If you are using FermiSee on your local machine you should also copy the output files `lco_hr.dat`, `lco.wout`, and `simga_fermisee.h5` to your local machine via scp. If you have trouble you can also use the public version of FermiSee here: [fermisee.flatironinstitute.org/](http://fermisee.flatironinstitute.org/) .\n",
    "\n",
    "1. Load the `lco_hr.dat` and the `lco.wout` file in the `TB Hamiltonian` section and calculate the bands\n",
    "2. calculate the correct `mu` by first entering a guess in the field then pressing the button `calc mu`. As long as the tab displays \"updating ...\", FermiSee is still working\n",
    "3. recalculate bands. They should be shifted now\n",
    "4. change the kpoint path to the same path used in this notebook\n",
    "5. download the config (for safety)\n",
    "6. expand now the self-energy section by clicking on it\n",
    "7. upload the `sigma_fermisee.h5` file and click `Calculate A(k,w)`, after a few seconds the spectral function should appear\n",
    "\n",
    "If anything goes wrong, reload and upload on the top your previously downloaded config file."
   ]
  },
  {
   "attachments": {
    "2e9cacdf-3b2a-4f36-8df2-63d02de7a891.png": {
     "image/png": "[encoded data removed]"
    }
   },
   "cell_type": "markdown",
   "id": "a791bff0-a14b-49c5-a3b1-c3d6285b1d37",
   "metadata": {},
   "source": [
    "__TASK__: cross check the quasiparticle weight extracted from solid_dmft with FermiSee by using the manual self-energy option. Try to find the best fit to the quasiparticle band from DMFT by choosing Z appropiately via the manual sigma interface in FermiSee:\n",
    "\n",
    "![image.png](attachment:2e9cacdf-3b2a-4f36-8df2-63d02de7a891.png)"
   ]
  },
  {
   "cell_type": "markdown",
   "id": "4310827a-6d4b-4eb4-a6e5-faa1baae4c91",
   "metadata": {},
   "source": [
    "## 7. Advanced: Running a Full charge self-consistent DFT+DMFT calculation"
   ]
  },
  {
   "cell_type": "markdown",
   "id": "1cb7a099-17a4-44ad-a263-99a10ad06b39",
   "metadata": {},
   "source": [
    "Now that you have mastered the one-shot calculation, you can repeat the calculation with full charge self-consistency and see how the solution changes. Instructions are described in the tutorial:\n",
    "[flatironinstitute.github.io/solid_dmft/tutorials/Ce2O3_csc_w90/tutorial](https://flatironinstitute.github.io/solid_dmft/tutorials/Ce2O3_csc_w90/tutorial.html)"
   ]
  }
 ],
 "metadata": {
  "kernelspec": {
   "display_name": "Python 3 (ipykernel)",
   "language": "python",
   "name": "python3"
  },
  "language_info": {
   "codemirror_mode": {
    "name": "ipython",
    "version": 3
   },
   "file_extension": ".py",
   "mimetype": "text/x-python",
   "name": "python",
   "nbconvert_exporter": "python",
   "pygments_lexer": "ipython3",
   "version": "3.9.7"
  },
  "toc-autonumbering": false
 },
 "nbformat": 4,
 "nbformat_minor": 5
}
